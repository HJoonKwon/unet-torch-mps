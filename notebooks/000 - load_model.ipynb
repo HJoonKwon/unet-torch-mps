{
 "cells": [
  {
   "cell_type": "code",
   "execution_count": 1,
   "metadata": {},
   "outputs": [],
   "source": [
    "%run -i start.py"
   ]
  },
  {
   "cell_type": "code",
   "execution_count": 6,
   "metadata": {},
   "outputs": [],
   "source": [
    "from torchsummary import summary\n",
    "from unet_torch_mps.model.unet import Unet "
   ]
  },
  {
   "cell_type": "code",
   "execution_count": 3,
   "metadata": {},
   "outputs": [],
   "source": [
    "unet = Unet(3, 31)"
   ]
  },
  {
   "cell_type": "code",
   "execution_count": 7,
   "metadata": {},
   "outputs": [
    {
     "name": "stdout",
     "output_type": "stream",
     "text": [
      "======================================================================\n",
      "Layer (type:depth-idx)                        Param #\n",
      "======================================================================\n",
      "├─Sequential: 1-1                             --\n",
      "|    └─Sequential: 2-1                        --\n",
      "|    |    └─Conv3: 3-1                        1,792\n",
      "|    |    └─Conv3: 3-2                        36,928\n",
      "|    └─Sequential: 2-2                        --\n",
      "|    |    └─MaxPool: 3-3                      --\n",
      "|    |    └─Conv3: 3-4                        73,856\n",
      "|    |    └─Conv3: 3-5                        147,584\n",
      "|    └─Sequential: 2-3                        --\n",
      "|    |    └─MaxPool: 3-6                      --\n",
      "|    |    └─Conv3: 3-7                        295,168\n",
      "|    |    └─Conv3: 3-8                        590,080\n",
      "|    └─Sequential: 2-4                        --\n",
      "|    |    └─MaxPool: 3-9                      --\n",
      "|    |    └─Conv3: 3-10                       1,180,160\n",
      "|    |    └─Conv3: 3-11                       2,359,808\n",
      "|    └─Sequential: 2-5                        --\n",
      "|    |    └─MaxPool: 3-12                     --\n",
      "|    |    └─Conv3: 3-13                       4,719,616\n",
      "|    |    └─Conv3: 3-14                       9,438,208\n",
      "|    |    └─UpConv: 3-15                      2,097,664\n",
      "|    └─Sequential: 2-6                        --\n",
      "|    |    └─Conv3: 3-16                       4,719,104\n",
      "|    |    └─Conv3: 3-17                       2,359,808\n",
      "|    |    └─UpConv: 3-18                      524,544\n",
      "|    └─Sequential: 2-7                        --\n",
      "|    |    └─Conv3: 3-19                       1,179,904\n",
      "|    |    └─Conv3: 3-20                       590,080\n",
      "|    |    └─UpConv: 3-21                      131,200\n",
      "|    └─Sequential: 2-8                        --\n",
      "|    |    └─Conv3: 3-22                       295,040\n",
      "|    |    └─Conv3: 3-23                       147,584\n",
      "|    |    └─UpConv: 3-24                      32,832\n",
      "|    └─Sequential: 2-9                        --\n",
      "|    |    └─Conv3: 3-25                       73,792\n",
      "|    |    └─Conv3: 3-26                       36,928\n",
      "|    |    └─Conv1: 3-27                       2,015\n",
      "======================================================================\n",
      "Total params: 31,033,695\n",
      "Trainable params: 31,033,695\n",
      "Non-trainable params: 0\n",
      "======================================================================\n"
     ]
    },
    {
     "data": {
      "text/plain": [
       "======================================================================\n",
       "Layer (type:depth-idx)                        Param #\n",
       "======================================================================\n",
       "├─Sequential: 1-1                             --\n",
       "|    └─Sequential: 2-1                        --\n",
       "|    |    └─Conv3: 3-1                        1,792\n",
       "|    |    └─Conv3: 3-2                        36,928\n",
       "|    └─Sequential: 2-2                        --\n",
       "|    |    └─MaxPool: 3-3                      --\n",
       "|    |    └─Conv3: 3-4                        73,856\n",
       "|    |    └─Conv3: 3-5                        147,584\n",
       "|    └─Sequential: 2-3                        --\n",
       "|    |    └─MaxPool: 3-6                      --\n",
       "|    |    └─Conv3: 3-7                        295,168\n",
       "|    |    └─Conv3: 3-8                        590,080\n",
       "|    └─Sequential: 2-4                        --\n",
       "|    |    └─MaxPool: 3-9                      --\n",
       "|    |    └─Conv3: 3-10                       1,180,160\n",
       "|    |    └─Conv3: 3-11                       2,359,808\n",
       "|    └─Sequential: 2-5                        --\n",
       "|    |    └─MaxPool: 3-12                     --\n",
       "|    |    └─Conv3: 3-13                       4,719,616\n",
       "|    |    └─Conv3: 3-14                       9,438,208\n",
       "|    |    └─UpConv: 3-15                      2,097,664\n",
       "|    └─Sequential: 2-6                        --\n",
       "|    |    └─Conv3: 3-16                       4,719,104\n",
       "|    |    └─Conv3: 3-17                       2,359,808\n",
       "|    |    └─UpConv: 3-18                      524,544\n",
       "|    └─Sequential: 2-7                        --\n",
       "|    |    └─Conv3: 3-19                       1,179,904\n",
       "|    |    └─Conv3: 3-20                       590,080\n",
       "|    |    └─UpConv: 3-21                      131,200\n",
       "|    └─Sequential: 2-8                        --\n",
       "|    |    └─Conv3: 3-22                       295,040\n",
       "|    |    └─Conv3: 3-23                       147,584\n",
       "|    |    └─UpConv: 3-24                      32,832\n",
       "|    └─Sequential: 2-9                        --\n",
       "|    |    └─Conv3: 3-25                       73,792\n",
       "|    |    └─Conv3: 3-26                       36,928\n",
       "|    |    └─Conv1: 3-27                       2,015\n",
       "======================================================================\n",
       "Total params: 31,033,695\n",
       "Trainable params: 31,033,695\n",
       "Non-trainable params: 0\n",
       "======================================================================"
      ]
     },
     "execution_count": 7,
     "metadata": {},
     "output_type": "execute_result"
    }
   ],
   "source": [
    "summary(unet)"
   ]
  },
  {
   "cell_type": "code",
   "execution_count": null,
   "metadata": {},
   "outputs": [],
   "source": []
  }
 ],
 "metadata": {
  "kernelspec": {
   "display_name": "torch-gpu",
   "language": "python",
   "name": "python3"
  },
  "language_info": {
   "codemirror_mode": {
    "name": "ipython",
    "version": 3
   },
   "file_extension": ".py",
   "mimetype": "text/x-python",
   "name": "python",
   "nbconvert_exporter": "python",
   "pygments_lexer": "ipython3",
   "version": "3.8.18"
  },
  "orig_nbformat": 4
 },
 "nbformat": 4,
 "nbformat_minor": 2
}
